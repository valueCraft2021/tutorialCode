{
 "cells": [
  {
   "cell_type": "markdown",
   "id": "ccf29964",
   "metadata": {},
   "source": [
    "<p style='font-size: 32px; font-weight: bold'>학습관련 자료를 다운받는 링크</p>\n",
    "<p style='font-size: 24px; font-weight: bold'>1. 변수 (Variable)</p>\n",
    "<br>\n",
    "<br>"
   ]
  },
  {
   "cell_type": "markdown",
   "id": "3efc17ce",
   "metadata": {},
   "source": [
    "<p style='font-size: 32px; font-weight: bold'>1. 변수 (Variable)</p>\n",
    "<br>\n",
    "<br>\n",
    "\n",
    "<ul style='font-size: 24px; font-weight: bold; line-height: 35px'>개념 및 활용방법   \n",
    "    <li style='font-size: 16px; font-weight: normal'> 변수란 값을 담는 그릇으로 표현할 수 있음</li>\n",
    "    <li style='font-size: 16px; font-weight: normal'> 파이썬에서는 \"= (Assignment)\"를 통해 간단하게 변수를 선언할 수 있음 </li>\n",
    "</ul>\n",
    "<br>"
   ]
  },
  {
   "cell_type": "code",
   "execution_count": null,
   "id": "0a7c4b9b",
   "metadata": {},
   "outputs": [],
   "source": [
    "x = 1 \n",
    "y = 2 \n",
    "z = x + y \n",
    "\n",
    "print('x is {}'.format(x))\n",
    "print('y is {}'.format(y))\n",
    "print('z is {}'.format(z))"
   ]
  },
  {
   "cell_type": "markdown",
   "id": "b8c7b67d",
   "metadata": {},
   "source": [
    "<br>\n",
    "<p style='font-size: 32px; font-weight: bold'>2. 연산자 (Operator)</p>\n",
    "<br>\n",
    "<br>\n",
    "\n",
    "<ul style='font-size: 24px; font-weight: bold; line-height: 35px'>개념  \n",
    "    <li style='font-size: 16px; font-weight: normal'>하나 이상의 피연산자를 입력받아 특정 연산을 하는 것</li>\n",
    "</ul>\n",
    "<br>\n",
    "\n",
    "<ul style='font-size: 24px; font-weight: bold; line-height: 35px'>연산자의 종류   \n",
    "    <li style='font-size: 16px; font-weight: normal; color: red'>산술 연산자</li>\n",
    "    <li style='font-size: 16px; font-weight: normal; color: red'>비교 연산자</li>\n",
    "    <li style='font-size: 16px; font-weight: normal'>할당 연산자</li>\n",
    "    <li style='font-size: 16px; font-weight: normal'>비트 연산자</li>\n",
    "    <li style='font-size: 16px; font-weight: normal'>논리 연산자</li>\n",
    "</ul>\n",
    "<br>"
   ]
  },
  {
   "cell_type": "markdown",
   "id": "06c7ddcf",
   "metadata": {},
   "source": [
    "<ul style='font-size: 24px; font-weight: bold; line-height: 35px'> 2-1. 산술 연산자 \n",
    "    <li style='font-size: 16px; font-weight: normal'>기본적인 사칙연산 등을 다루는 기본적인 연산자</li>\n",
    "    <li style='font-size: 16px; font-weight: normal'>+ (더하기), - (빼기), * (곱하기), / (나누기) 등이 존재함</li>\n",
    "</ul>\n",
    "<br>"
   ]
  },
  {
   "cell_type": "code",
   "execution_count": 1,
   "id": "60556235",
   "metadata": {},
   "outputs": [
    {
     "name": "stdout",
     "output_type": "stream",
     "text": [
      "x + y is 6\n",
      "x - y is -2\n",
      "x * y is 8\n",
      "x / y is 0.5\n"
     ]
    }
   ],
   "source": [
    "x = 2 \n",
    "y = 4 \n",
    "\n",
    "print('x + y is {}'.format(x + y))\n",
    "print('x - y is {}'.format(x - y))\n",
    "print('x * y is {}'.format(x * y))\n",
    "print('x / y is {}'.format(x / y))"
   ]
  },
  {
   "cell_type": "markdown",
   "id": "418e9085",
   "metadata": {},
   "source": [
    "<ul style='font-size: 24px; font-weight: bold; line-height: 35px'> 2-2. 비교 연산자 \n",
    "    <li style='font-size: 16px; font-weight: normal'>기본적인 사칙연산 등을 다루는 기본적인 연산자</li>\n",
    "    <li style='font-size: 16px; font-weight: normal'> \"> (좌변이 우변보다 큼)\", \"< (좌변이 우변보다 작음)\", \"== (좌변과 우변이 같음)\", \"!= (좌변과 우변이 같지않음)\" 등이 존재함</li>\n",
    "</ul>\n",
    "<br>"
   ]
  },
  {
   "cell_type": "code",
   "execution_count": null,
   "id": "7b0de9e0",
   "metadata": {},
   "outputs": [],
   "source": [
    "x = 2 \n",
    "y = 4 \n",
    "\n",
    "print('x == y ? {}'.format(x == y))\n",
    "print('x != y ? {}'.format(x != y))\n",
    "print('x > y ? {}'.format(x > y))\n",
    "print('x < y ? {}'.format(x < y))"
   ]
  },
  {
   "cell_type": "markdown",
   "id": "fed2c949",
   "metadata": {},
   "source": [
    "<br>\n",
    "<p style='font-size: 32px; font-weight: bold'>3. 자료형 (Data type)</p>\n",
    "<br>\n",
    "<br>\n",
    "\n",
    "<ul style='font-size: 24px; font-weight: bold; line-height: 35px'>개념  \n",
    "    <li style='font-size: 16px; font-weight: normal'>  자료형은 임의의 값의 형태를 알려주는 나타냄</li>\n",
    "</ul>\n",
    "<br>\n",
    "\n",
    "<ul style='font-size: 24px; font-weight: bold; line-height: 35px'>대표적인 자료형   \n",
    "    <li style='font-size: 16px; font-weight: normal'>정수, Int</li>\n",
    "    <li style='font-size: 16px; font-weight: normal'>부동소수점, float</li>\n",
    "    <li style='font-size: 16px; font-weight: normal'>문자열, str</li>\n",
    "    <li style='font-size: 16px; font-weight: normal'>리스트, list</li>\n",
    "    <li style='font-size: 16px; font-weight: normal'>불리언, bool</li>\n",
    "</ul>\n",
    "<br>"
   ]
  },
  {
   "cell_type": "code",
   "execution_count": null,
   "id": "8cddf9f4",
   "metadata": {},
   "outputs": [],
   "source": [
    "var_int = 5 \n",
    "var_float = 1.2 \n",
    "var_str = 'Python is great!!'\n",
    "var_list = [1, 2, 3, 4]\n",
    "var_bool = True \n",
    "\n",
    "print('type of var_int: {}'.format(type(var_int)))\n",
    "print('type of var_float: {}'.format(type(var_float)))\n",
    "print('type of var_str: {}'.format(type(var_str)))\n",
    "print('type of var_list: {}'.format(type(var_list)))"
   ]
  },
  {
   "cell_type": "markdown",
   "id": "1a7e5c31",
   "metadata": {},
   "source": [
    "<ul style='font-size: 24px; font-weight: bold; line-height: 35px'> 3-1. 정수 & 부동소수점 \n",
    "    <li style='font-size: 16px; font-weight: normal'>수량을 표현하는 자료형이며 자유로운 산술 연산이 가능함</li>\n",
    "</ul>\n",
    "<br>"
   ]
  },
  {
   "cell_type": "code",
   "execution_count": null,
   "id": "91c77dbd",
   "metadata": {},
   "outputs": [],
   "source": [
    "print('더하기: {}'.format(var_int + var_float)) \n",
    "print('빼기: {}'.format(var_int - var_float))\n",
    "print('곱하기: {}'.format(var_int * var_float))\n",
    "print('나누기: {}'.format(var_int / var_float))"
   ]
  },
  {
   "cell_type": "markdown",
   "id": "0ada4656",
   "metadata": {},
   "source": [
    "<ul style='font-size: 24px; font-weight: bold; line-height: 35px'> 3-2. 문자열  \n",
    "    <li style='font-size: 16px; font-weight: normal'>일부의 산술연산이 가능함</li>\n",
    "    <li style='font-size: 16px; font-weight: normal'>인덱싱 및 슬라이싱(:)이 가능함</li>\n",
    "</ul>\n",
    "<br>"
   ]
  },
  {
   "cell_type": "code",
   "execution_count": null,
   "id": "b4980e7b",
   "metadata": {},
   "outputs": [],
   "source": [
    "var_str = 'Python is great!'\n",
    "\n",
    "print('1st element of var_str: {}'.format(var_str[0]))\n",
    "print('last element of var_str: {}'.format(var_str[-1]))\n",
    "print('1st to 10th element of var_str: {}'.format(var_str[:10]))\n",
    "print('2nd to 10th elemnt of var_str: {}'.format(var_str[1:10]))\n",
    "print('2nd to last element of var_str: {}'.format(var_str[1:]))"
   ]
  },
  {
   "cell_type": "markdown",
   "id": "c5fc28d5",
   "metadata": {},
   "source": [
    "<ul style='font-size: 24px; font-weight: bold; line-height: 35px'> 3-3. 리스트  \n",
    "    <li style='font-size: 16px; font-weight: normal'>개별적인 값들을 하나의 그룹으로 묶어 표현할 수 있는 자료형</li>\n",
    "    <li style='font-size: 16px; font-weight: normal'>인덱싱 및 슬라이싱이 가능함</li>\n",
    "    <li style='font-size: 16px; font-weight: normal'>내부 메소드를 통해 효과적인 활용이 가능함</li>\n",
    "</ul>\n",
    "<br>"
   ]
  },
  {
   "cell_type": "code",
   "execution_count": null,
   "id": "f5855d7d",
   "metadata": {},
   "outputs": [],
   "source": [
    "# 리스트의 인덱싱 \n",
    "\n",
    "var_str = [1, 2, 3, 4]\n",
    "\n",
    "print('1st element of var_str: {}'.format(var_str[0]))\n",
    "print('last element of var_str: {}'.format(var_str[-1]))\n",
    "print('1st to 3rd element of var_str: {}'.format(var_str[:-1]))\n",
    "print('2nd to last element of var_str: {}'.format(var_str[1:]))"
   ]
  },
  {
   "cell_type": "code",
   "execution_count": null,
   "id": "a08d6d57",
   "metadata": {},
   "outputs": [],
   "source": [
    "# 리스트 대표 메소드 : append \n",
    "\n",
    "var_str.append('AI')\n",
    "print(var_str)"
   ]
  },
  {
   "cell_type": "markdown",
   "id": "0960eeb9",
   "metadata": {},
   "source": [
    "<ul style='font-size: 24px; font-weight: bold; line-height: 35px'> 3-4. 불리언 & 조건문   \n",
    "    <li style='font-size: 16px; font-weight: normal'>불리언은 참과 거짓을 나타내는 자료형임</li>\n",
    "    <li style='font-size: 16px; font-weight: normal'>조건문과 결합하여 강력한 힘을 발휘함</li>\n",
    "</ul>\n",
    "<br>"
   ]
  },
  {
   "cell_type": "code",
   "execution_count": null,
   "id": "5901d700",
   "metadata": {},
   "outputs": [],
   "source": [
    "# 불리언 Basic \n",
    "\n",
    "x = 2 \n",
    "y = 4 \n",
    "var_bool = (x > y)\n",
    "print('Value of var_bool: {}'.format(var_bool))"
   ]
  },
  {
   "cell_type": "code",
   "execution_count": null,
   "id": "10be8646",
   "metadata": {},
   "outputs": [],
   "source": [
    "# 불리언과 조건문의 연계 \n",
    "\n",
    "if x > y: \n",
    "    print('if-statement is activated')\n",
    "else: \n",
    "    print('else-statement is activated')\n",
    "\n",
    "if var_bool: \n",
    "    print('if-statement is activated')\n",
    "else: \n",
    "    print('else-statement is activated')\n",
    "    \n",
    "if not var_bool: \n",
    "    print('if-statement is activated')\n",
    "else: \n",
    "    print('else-statement is activated')"
   ]
  },
  {
   "cell_type": "markdown",
   "id": "a0996e13",
   "metadata": {},
   "source": [
    "<br>\n",
    "<p style='font-size: 32px; font-weight: bold'>4. 반복문 (Iteration)</p>\n",
    "<br>\n",
    "<br>\n",
    "\n",
    "<ul style='font-size: 24px; font-weight: bold; line-height: 35px'>개념  \n",
    "    <li style='font-size: 16px; font-weight: normal'> 반복문은 프로그래밍에서 가장 대표적인 제어문임</li>\n",
    "    <li style='font-size: 16px; font-weight: normal'> 반복문을 통해 반복적인 작업을 수행하고 코드의 중복을 피할 수 있음</li>\n",
    "    <li style='font-size: 16px; font-weight: normal'> 반복문은 \"for 구문\"과 \"while 구문\" 등이 대표적임</li>\n",
    "</ul>\n",
    "<br>"
   ]
  },
  {
   "cell_type": "code",
   "execution_count": null,
   "id": "dc9d7fa7",
   "metadata": {},
   "outputs": [],
   "source": [
    "# range를 활용한 for구문 \n",
    "\n",
    "print('First for-statement')\n",
    "for i in range(0, 10, 1): \n",
    "    print('This iteration is {} step'.format(i))\n",
    "\n",
    "print()\n",
    "print('Second for-statement')\n",
    "for i in range(10):\n",
    "    print('This iteration is {} step'.format(i))"
   ]
  },
  {
   "cell_type": "code",
   "execution_count": null,
   "id": "6bcc6051",
   "metadata": {},
   "outputs": [],
   "source": [
    "# 리스트를 활용한 for구문  \n",
    "\n",
    "sample_list = [1, 2, 3, 'Python', 'AI']\n",
    "\n",
    "print('First for-statement')\n",
    "for i in range(len(sample_list)):\n",
    "    print('{}th element of list: {}'.format(i+1, sample_list[i]))\n",
    "    \n",
    "\n",
    "print()\n",
    "print('Second for-statement')\n",
    "i = 0 \n",
    "for element in sample_list:\n",
    "    print('{}th element of list: {}'.format(i+1, element))\n",
    "    i = i + 1 \n",
    "    \n",
    "    \n",
    "print()\n",
    "print('Third for-statement')\n",
    "for i, element in enumerate(sample_list):\n",
    "    print('{}th element of list: {}'.format(i+1, element))"
   ]
  },
  {
   "cell_type": "code",
   "execution_count": null,
   "id": "9f4876ba",
   "metadata": {},
   "outputs": [],
   "source": [
    "# 반복문과 조건문의 연계 \n",
    "\n",
    "for i in range(100): \n",
    "    if (i + 1) % 10 == 0: \n",
    "        print('This step is {}'.format(i+1))\n",
    "    \n",
    "    if (i + 1) % 50 == 0:\n",
    "        print('break point.. {} step'.format(i+1)) \n",
    "        break "
   ]
  },
  {
   "cell_type": "code",
   "execution_count": null,
   "id": "ae27cc83",
   "metadata": {},
   "outputs": [],
   "source": [
    "# 리스트 및 append와 반복문의 연계 \n",
    "\n",
    "sample_list = [] \n",
    "for i in range(10): \n",
    "    sample_list.append(i)\n",
    "    \n",
    "print('sample_list: {}'.format(sample_list))"
   ]
  }
 ],
 "metadata": {
  "kernelspec": {
   "display_name": "Python 3 (ipykernel)",
   "language": "python",
   "name": "python3"
  },
  "language_info": {
   "codemirror_mode": {
    "name": "ipython",
    "version": 3
   },
   "file_extension": ".py",
   "mimetype": "text/x-python",
   "name": "python",
   "nbconvert_exporter": "python",
   "pygments_lexer": "ipython3",
   "version": "3.7.11"
  }
 },
 "nbformat": 4,
 "nbformat_minor": 5
}
