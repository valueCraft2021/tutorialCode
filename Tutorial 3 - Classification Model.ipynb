{
 "cells": [
  {
   "cell_type": "markdown",
   "id": "3e1a4afe",
   "metadata": {},
   "source": [
    "<p style='font-size: 32px; font-weight: bold'>1. 라이브러리 임포트</p>"
   ]
  },
  {
   "cell_type": "code",
   "execution_count": null,
   "id": "5eca9b2d",
   "metadata": {},
   "outputs": [],
   "source": [
    "import pandas as pd \n",
    "import numpy as np \n",
    "from tensorflow import keras \n",
    "import matplotlib.pyplot as plt "
   ]
  },
  {
   "cell_type": "markdown",
   "id": "7588b4e5",
   "metadata": {},
   "source": [
    "<br>\n",
    "<p style='font-size: 32px; font-weight: bold'>2. 이미지 분류 모델 만들기</p>\n",
    "<br>\n",
    "<br>\n",
    "\n",
    "<ul style='font-size: 24px; font-weight: bold; line-height: 35px'>실습의 목표    \n",
    "    <li style='font-size: 16px; font-weight: normal'> 실제 사람의 손글씨 이미지를 통해 이미지를 분류하는 분류 모델을 개발함</li>\n",
    "    <li style='font-size: 16px; font-weight: normal'> 분류 문제에 인공지능이 활용되는 전반적인 프로세스를 이해함</li>\n",
    "</ul>\n",
    "<br>"
   ]
  },
  {
   "cell_type": "markdown",
   "id": "c0338e09",
   "metadata": {},
   "source": [
    "<p style='font-size: 24px; font-weight: bold'>2-1. 데이터 로딩 및 데이터 파악</p>\n",
    "<p style='font-size: 18px;'>손글씨 이미지 파일을 불러오고 이를 시각화해봄</p>"
   ]
  },
  {
   "cell_type": "code",
   "execution_count": null,
   "id": "9a4e556f",
   "metadata": {
    "scrolled": true
   },
   "outputs": [],
   "source": [
    "(X_train, y_train), (X_test, y_test) = keras.datasets.mnist.load_data()  \n",
    "print('Shape of X_train: {}, Shape of y_train: {}'.format(X_train.shape, y_train.shape))\n",
    "print('Shape of X_test: {}, Shape of y_test: {}'.format(X_test.shape, y_test.shape))\n",
    "print('Shape of sample: {}'.format(X_train[0].shape))\n",
    "\n",
    "for i in range(4): \n",
    "    plt.figure() \n",
    "    plt.title('Target value: {}'.format(y_train[i]), fontsize=16)\n",
    "    plt.imshow(X_train[i], cmap=plt.get_cmap('gray'))\n",
    "    plt.show() \n",
    "\n",
    "print(X_train[0])"
   ]
  },
  {
   "cell_type": "markdown",
   "id": "6f488c86",
   "metadata": {},
   "source": [
    "<p style='font-size: 24px; font-weight: bold'>2-2. 지도학습 데이터 구성하기</p>\n",
    "<p style='font-size: 18px;'>손글씨 이미지를 기계가 분류하기 위한 지도학습 데이터 구성</p>\n",
    "<p style='font-size: 18px;'>일반적인 인공신경망 모델에 적용하기 위해 3차원 구조의 데이터를 2차원으로 축소시킴</p>"
   ]
  },
  {
   "cell_type": "code",
   "execution_count": null,
   "id": "7c556196",
   "metadata": {},
   "outputs": [],
   "source": [
    "sample_num_train = X_train.shape[0]\n",
    "sample_num_test = X_test.shape[0]\n",
    "\n",
    "X_train_reshape = X_train.reshape((sample_num_train, -1))\n",
    "X_test_reshape = X_test.reshape((sample_num_test, -1))\n",
    "\n",
    "print('Original X_train shape: {}, Reshaped X_train shape: {}'.format(X_train.shape, X_train_reshape.shape))\n",
    "print('Original X_test shape: {}, Reshaped X_test shape: {}'.format(X_test.shape, X_test_reshape.shape))\n",
    "\n",
    "feature_size = X_train_reshape.shape[1]\n",
    "print('Size of features: {}'.format(feature_size))\n",
    "\n",
    "X_train_reshape = X_train_reshape / 255.0 \n",
    "X_test_reshape = X_test_reshape / 255.0 \n",
    "print(X_train_reshape[0])"
   ]
  },
  {
   "cell_type": "markdown",
   "id": "ee3ad637",
   "metadata": {},
   "source": [
    "<p style='font-size: 24px; font-weight: bold'>2-3. 분류형 AI 모델 구현 및 학습</p>\n",
    "<p style='font-size: 18px;'>AI 모델을 구성하고 학습용 데이터를 통해 학습을 수행함</p>"
   ]
  },
  {
   "cell_type": "code",
   "execution_count": null,
   "id": "febba35e",
   "metadata": {},
   "outputs": [],
   "source": [
    "model = keras.models.Sequential() \n",
    "model.add(keras.layers.Input(feature_size))\n",
    "model.add(keras.layers.Dense(512, activation='relu'))\n",
    "model.add(keras.layers.Dense(256, activation='relu'))\n",
    "model.add(keras.layers.Dense(128, activation='relu'))\n",
    "model.add(keras.layers.Dense(10, activation='softmax'))\n",
    "\n",
    "model.compile(\n",
    "    loss='sparse_categorical_crossentropy', \n",
    "    optimizer='adam', \n",
    "    metrics=['accuracy']\n",
    ")\n",
    "\n",
    "print(model.summary())"
   ]
  },
  {
   "cell_type": "code",
   "execution_count": null,
   "id": "17e2f1d3",
   "metadata": {},
   "outputs": [],
   "source": [
    "# 모델 학습 \n",
    "model.fit(\n",
    "    x=X_train_reshape, \n",
    "    y=y_train, \n",
    "    batch_size=64, \n",
    "    epochs=10, \n",
    ")"
   ]
  },
  {
   "cell_type": "markdown",
   "id": "eade91e8",
   "metadata": {},
   "source": [
    "<p style='font-size: 24px; font-weight: bold'>2-4. AI 모델에 대한 검증</p>\n",
    "<p style='font-size: 18px;'>학습된 AI 모델에 검증용 데이터를 적용하여 모델의 일반화 성능을 알아봄</p>"
   ]
  },
  {
   "cell_type": "markdown",
   "id": "8ec22613",
   "metadata": {},
   "source": [
    "<p style='font-size: 18px; font-weight: bold'>1. 학습데이터에 대한 모델의 성능 확인</p>"
   ]
  },
  {
   "cell_type": "code",
   "execution_count": null,
   "id": "b2a82833",
   "metadata": {},
   "outputs": [],
   "source": [
    "prediction_train = model.predict(X_train_reshape) \n",
    "print('pretion_train shape: {}'.format(prediction_train.shape))\n",
    "print('sample prediction: {}'.format(prediction_train[0]))\n",
    "print() \n",
    "\n",
    "prediction_train_int = np.argmax(prediction_train, axis=1)\n",
    "print('pretion_train_int shape: {}'.format(prediction_train_int.shape))\n",
    "print('sample prediction: {}'.format(prediction_train_int[0]))\n",
    "print() \n",
    "\n",
    "acc_train = np.sum((prediction_train_int == y_train)) / y_train.shape[0] * 100 \n",
    "print('Accuracy for training data: {:.1f}%'.format(acc_train))"
   ]
  },
  {
   "cell_type": "markdown",
   "id": "04ed40ae",
   "metadata": {},
   "source": [
    "<p style='font-size: 18px; font-weight: bold'>2. 검증데이터에 대한 모델의 성능 확인</p>"
   ]
  },
  {
   "cell_type": "code",
   "execution_count": null,
   "id": "058fdc83",
   "metadata": {},
   "outputs": [],
   "source": [
    "prediction_test = model.predict(X_test_reshape) \n",
    "print('pretion_train shape: {}'.format(prediction_test.shape))\n",
    "print('sample prediction: {}'.format(prediction_test[0]))\n",
    "print() \n",
    "\n",
    "prediction_test_int = np.argmax(prediction_test, axis=1)\n",
    "print('pretion_test_int shape: {}'.format(prediction_test_int.shape))\n",
    "print('sample prediction: {}'.format(prediction_test_int[0]))\n",
    "print() \n",
    "\n",
    "acc_test = np.sum((prediction_test_int == y_test)) / y_test.shape[0] * 100 \n",
    "print('Accuracy for test data: {:.1f}%'.format(acc_test))"
   ]
  },
  {
   "cell_type": "code",
   "execution_count": null,
   "id": "f884c865",
   "metadata": {
    "scrolled": true
   },
   "outputs": [],
   "source": [
    "for i in range(10): \n",
    "    plt.figure() \n",
    "    prediction_img = prediction_test_int[i]\n",
    "    target_img = y_test[i]\n",
    "    plt.title('Predicted value: {}, Labeled value: {}'.format(prediction_img, target_img), fontsize=14)\n",
    "    plt.imshow(X_test[i], cmap=plt.get_cmap('gray'))\n",
    "    plt.show() "
   ]
  },
  {
   "cell_type": "markdown",
   "id": "613ceff3",
   "metadata": {},
   "source": [
    "<br>\n",
    "<p style='font-size: 32px; font-weight: bold'>3. CNN을 활용한 이미지 분류모델 만들기</p>\n",
    "<br>\n",
    "<br>\n",
    "\n",
    "<ul style='font-size: 24px; font-weight: bold; line-height: 35px'>실습의 목표    \n",
    "    <li style='font-size: 16px; font-weight: normal'> CNN 모델을 통해 사람의 손글씨를 인식할 수 있는 딥러닝 모형을 구현함</li>\n",
    "    <li style='font-size: 16px; font-weight: normal'> Tensorflow & Keras 기반의 CNN 구현 방식을 이해함 </li>\n",
    "</ul>\n",
    "<br>"
   ]
  },
  {
   "cell_type": "markdown",
   "id": "12f8496b",
   "metadata": {},
   "source": [
    "<p style='font-size: 24px; font-weight: bold'>3-1. 데이터 로딩</p>\n",
    "<p style='font-size: 18px;'>손글씨 이미지 파일을 불러오고 CNN 모형 입력에 적합한 형식으로 가공함</p>"
   ]
  },
  {
   "cell_type": "code",
   "execution_count": null,
   "id": "4549d5e7",
   "metadata": {},
   "outputs": [],
   "source": [
    "(X_train, y_train), (X_test, y_test) = keras.datasets.mnist.load_data()\n",
    "print('Shape of X_train: {}, Shape of y_train: {}'.format(X_train.shape, y_train.shape))\n",
    "print('Shape of X_test: {}, Shape of y_test: {}'.format(X_test.shape, y_test.shape))\n",
    "print('Shape of sample: {}'.format(X_train[0].shape))\n",
    "print() "
   ]
  },
  {
   "cell_type": "markdown",
   "id": "88cab1a2",
   "metadata": {},
   "source": [
    "<p style='font-size: 24px; font-weight: bold'>3-2. 지도학습 데이터 구성하기</p>\n",
    "<p style='font-size: 18px;'>손글씨 이미지를 CNN 모형이 분류하기 위한 지도학습 데이터 구성</p>\n",
    "<p style='font-size: 18px;'>일반적인 인공신경망 모델에 적용하기 위해 3차원 구조의 데이터를 4차원으로 확대함</p>"
   ]
  },
  {
   "cell_type": "code",
   "execution_count": null,
   "id": "8781f512",
   "metadata": {},
   "outputs": [],
   "source": [
    "X_train = X_train.reshape((-1, 28, 28, 1))\n",
    "X_test = X_test.reshape((-1, 28, 28, 1))\n",
    "print('Shape of X_train: {}, Shape of y_train: {}'.format(X_train.shape, y_train.shape))\n",
    "print('Shape of X_test: {}, Shape of y_test: {}'.format(X_test.shape, y_test.shape))\n",
    "print('Shape of sample: {}'.format(X_train[0].shape))\n",
    "\n",
    "feature_shape = X_train.shape[1:]\n",
    "print('Feature shape: {}'.format(feature_shape))\n",
    "\n",
    "X_train = X_train / 255.0 \n",
    "X_test = X_test / 255.0 "
   ]
  },
  {
   "cell_type": "markdown",
   "id": "01326295",
   "metadata": {},
   "source": [
    "<p style='font-size: 24px; font-weight: bold'>3-3. CNN 모델 구현 및 학습</p>\n",
    "<p style='font-size: 18px;'>CNN 모델을 구성하고 학습용 데이터를 통해 학습을 수행함</p>"
   ]
  },
  {
   "cell_type": "code",
   "execution_count": null,
   "id": "385bcf86",
   "metadata": {},
   "outputs": [],
   "source": [
    "model = keras.models.Sequential() \n",
    "model.add(keras.layers.Input(feature_shape))\n",
    "model.add(keras.layers.Conv2D(32, (3, 3), activation='relu'))\n",
    "model.add(keras.layers.MaxPooling2D((2, 2)))\n",
    "model.add(keras.layers.Conv2D(64, (3, 3), activation='relu'))\n",
    "model.add(keras.layers.MaxPooling2D((2, 2)))\n",
    "model.add(keras.layers.Flatten())\n",
    "model.add(keras.layers.Dense(64, activation='relu'))\n",
    "model.add(keras.layers.Dense(10, activation='softmax'))\n",
    "\n",
    "model.compile(\n",
    "    loss='sparse_categorical_crossentropy', \n",
    "    optimizer='adam', \n",
    "    metrics=['accuracy']\n",
    ")\n",
    "\n",
    "print(model.summary())"
   ]
  },
  {
   "cell_type": "code",
   "execution_count": null,
   "id": "388db5b4",
   "metadata": {},
   "outputs": [],
   "source": [
    "model.fit(\n",
    "    x=X_train, \n",
    "    y=y_train, \n",
    "    batch_size=64, \n",
    "    epochs=10, \n",
    ")"
   ]
  },
  {
   "cell_type": "markdown",
   "id": "827584f2",
   "metadata": {},
   "source": [
    "<p style='font-size: 24px; font-weight: bold'>3-4. CNN 모델에 대한 검증</p>\n",
    "<p style='font-size: 18px;'>학습된 AI 모델에 검증용 데이터를 적용하여 모델의 일반화 성능을 알아봄</p>"
   ]
  },
  {
   "cell_type": "markdown",
   "id": "88e860da",
   "metadata": {},
   "source": [
    "<p style='font-size: 18px; font-weight: bold'>학습데이터에 대한 모델의 성능 확인</p>"
   ]
  },
  {
   "cell_type": "code",
   "execution_count": null,
   "id": "b3031ab5",
   "metadata": {},
   "outputs": [],
   "source": [
    "prediction_train = model.predict(X_train) \n",
    "print('pretion_train shape: {}'.format(prediction_train.shape))\n",
    "print('sample prediction: {}'.format(prediction_train[0]))\n",
    "print() \n",
    "\n",
    "prediction_train_int = np.argmax(prediction_train, axis=1)\n",
    "print('pretion_train_int shape: {}'.format(prediction_train_int.shape))\n",
    "print('sample prediction: {}'.format(prediction_train_int[0]))\n",
    "print() \n",
    "\n",
    "acc_train = np.sum((prediction_train_int == y_train)) / y_train.shape[0] * 100 \n",
    "print('Accuracy for training data: {:.1f}%'.format(acc_train))"
   ]
  },
  {
   "cell_type": "markdown",
   "id": "22bde877",
   "metadata": {},
   "source": [
    "<p style='font-size: 18px; font-weight: bold'>검증데이터에 대한 모델의 성능 확인</p>"
   ]
  },
  {
   "cell_type": "code",
   "execution_count": null,
   "id": "c7a18a0c",
   "metadata": {},
   "outputs": [],
   "source": [
    "prediction_test = model.predict(X_test) \n",
    "print('pretion_train shape: {}'.format(prediction_test.shape))\n",
    "print('sample prediction: {}'.format(prediction_test[0]))\n",
    "print() \n",
    "\n",
    "prediction_test_int = np.argmax(prediction_test, axis=1)\n",
    "print('pretion_test_int shape: {}'.format(prediction_test_int.shape))\n",
    "print('sample prediction: {}'.format(prediction_test_int[0]))\n",
    "print() \n",
    "\n",
    "acc_test = np.sum((prediction_test_int == y_test)) / y_test.shape[0] * 100 \n",
    "print('Accuracy for test data: {:.1f}%'.format(acc_test))"
   ]
  },
  {
   "cell_type": "code",
   "execution_count": null,
   "id": "d3208bc6",
   "metadata": {},
   "outputs": [],
   "source": [
    "for i in range(10): \n",
    "    plt.figure() \n",
    "    prediction_img = prediction_test_int[i]\n",
    "    target_img = y_test[i]\n",
    "    plt.title('Predicted value: {}, Labeled value: {}'.format(prediction_img, target_img), fontsize=14)\n",
    "    plt.imshow(X_test[i], cmap=plt.get_cmap('gray'))\n",
    "    plt.show() "
   ]
  },
  {
   "cell_type": "code",
   "execution_count": null,
   "id": "55155c75",
   "metadata": {},
   "outputs": [],
   "source": []
  }
 ],
 "metadata": {
  "kernelspec": {
   "display_name": "Python 3",
   "language": "python",
   "name": "python3"
  },
  "language_info": {
   "codemirror_mode": {
    "name": "ipython",
    "version": 3
   },
   "file_extension": ".py",
   "mimetype": "text/x-python",
   "name": "python",
   "nbconvert_exporter": "python",
   "pygments_lexer": "ipython3",
   "version": "3.7.10"
  }
 },
 "nbformat": 4,
 "nbformat_minor": 5
}
