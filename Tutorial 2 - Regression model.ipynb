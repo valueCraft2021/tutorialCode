{
 "cells": [
  {
   "cell_type": "markdown",
   "id": "0914379e",
   "metadata": {},
   "source": [
    "<ul style='font-size: 24px; font-weight: bold; line-height: 35px'>1. 필요한 파이썬 라이브러리 임포트 \n",
    "    <li style='font-size: 16px; font-weight: normal'> numpy: 행렬 및 대수 연산을 위한 라이브러리</li>\n",
    "    <li style='font-size: 16px; font-weight: normal'> pandas: 데이터 정형화 및 가공을 위한 라이브러리</li>\n",
    "    <li style='font-size: 16px; font-weight: normal'> keras(Tensorflow): AI 모델 개발을 위한 라이브러리</li>\n",
    "    <li style='font-size: 16px; font-weight: normal'> matplotlib: 시각화를 위한 라이브러리</li>\n",
    "</ul>\n",
    "<br>"
   ]
  },
  {
   "cell_type": "code",
   "execution_count": null,
   "id": "cc6b274b",
   "metadata": {},
   "outputs": [],
   "source": [
    "import pandas as pd \n",
    "import numpy as np \n",
    "from tensorflow import keras \n",
    "import matplotlib.pyplot as plt "
   ]
  },
  {
   "cell_type": "markdown",
   "id": "b5b144ff",
   "metadata": {},
   "source": [
    "<br>\n",
    "<p style='font-size: 32px; font-weight: bold'>2. Numpy에 대한 학습</p>\n",
    "<br>\n",
    "<br>\n",
    "\n",
    "<ul style='font-size: 24px; font-weight: bold; line-height: 35px'>개념 및 활용방법   \n",
    "    <li style='font-size: 16px; font-weight: normal'> 넘파이는 파이썬의 대표적인 행렬 및 대수처리를 위한 라이브러리임</li>\n",
    "    <li style='font-size: 16px; font-weight: normal'> 행렬 연산이 많은 데이터 분석의 특성한 활용도가 매우 높음</li>\n",
    "</ul>\n",
    "<br>"
   ]
  },
  {
   "cell_type": "markdown",
   "id": "9845c7b7",
   "metadata": {},
   "source": [
    "<p style='font-size: 24px; font-weight: bold'>2-1. Numpy로 행렬 만들기</p>"
   ]
  },
  {
   "cell_type": "code",
   "execution_count": null,
   "id": "5a0b9590",
   "metadata": {},
   "outputs": [],
   "source": [
    "A = np.array([[1, 2], [3, 4]])\n",
    "B = np.array([[5, 6, 7], [8, 9, 10]])\n",
    "\n",
    "print('Matrix A')\n",
    "print('A: {}'.format(A))\n",
    "print('Shape of A: {}, size of row: {}, size of column: {}'.format(A.shape, A.shape[0], A.shape[1]))\n",
    "\n",
    "print()\n",
    "print('Matrix B')\n",
    "print('B: {}'.format(B))\n",
    "print('Shape of B: {}, size of row: {}, size of column: {}'.format(B.shape, B.shape[0], B.shape[1]))"
   ]
  },
  {
   "cell_type": "markdown",
   "id": "9173e198",
   "metadata": {},
   "source": [
    "<p style='font-size: 24px; font-weight: bold'>2-2. Array에 대한 인덱싱 및 슬라이싱</p>"
   ]
  },
  {
   "cell_type": "code",
   "execution_count": null,
   "id": "0700e4f1",
   "metadata": {},
   "outputs": [],
   "source": [
    "A = np.random.randint(low=0, high=10, size=(4, 4))\n",
    "print(A)\n",
    "print() \n",
    "\n",
    "print('(1, 1)th element of A: {}'.format(A[0, 0]))\n",
    "print('(2, 2)th element of A: {}'.format(A[-1, -1]))\n",
    "print('last coloumn of A: {}'.format(A[:, -1]))\n",
    "print('3th row of A: {}'.format(A[2, :]))\n",
    "print('3th row of A: {}'.format(A[2]))"
   ]
  },
  {
   "cell_type": "markdown",
   "id": "e475828a",
   "metadata": {},
   "source": [
    "<p style='font-size: 24px; font-weight: bold'>2-3. Array에 대한 연산</p>\n",
    "<p style='font-size: 18px;'>Array에 대한 연산은 기본적인 원칙은 Element-wise 형식의 연산임</p>"
   ]
  },
  {
   "cell_type": "code",
   "execution_count": null,
   "id": "17093cde",
   "metadata": {},
   "outputs": [],
   "source": [
    "A = np.array([\n",
    "    [1, 2], \n",
    "    [3, 4], \n",
    "])\n",
    "B = np.array([\n",
    "    [5, 6], \n",
    "    [7, 8]\n",
    "])\n",
    "\n",
    "print('A + B =')\n",
    "print(A + B)\n",
    "print()\n",
    "\n",
    "print('A - B =')\n",
    "print(A - B)\n",
    "print()\n",
    "\n",
    "print('A / B =')\n",
    "print(A / B)\n",
    "print()\n",
    "\n",
    "print('A * B =')\n",
    "print(A * B)\n",
    "print()\n",
    "\n",
    "print('Matrix multiplication of A and B =')\n",
    "print(np.matmul(A, B))"
   ]
  },
  {
   "cell_type": "markdown",
   "id": "d5903394",
   "metadata": {},
   "source": [
    "<br>\n",
    "<p style='font-size: 32px; font-weight: bold'>3. Pandas에 대한 학습</p>\n",
    "<br>\n",
    "<br>\n",
    "\n",
    "<ul style='font-size: 24px; font-weight: bold; line-height: 35px'>개념 및 활용방법   \n",
    "    <li style='font-size: 16px; font-weight: normal'> 판다스는 데이터 분석에 있어 가장 많이 활용되는 라이브러리 중 하나임</li>\n",
    "    <li style='font-size: 16px; font-weight: normal'> 판다스를 통해 데이터의 정형화와 데이터 가공을 손쉽게 처리할 수 있음</li>\n",
    "</ul>\n",
    "<br>"
   ]
  },
  {
   "cell_type": "markdown",
   "id": "2a925f8d",
   "metadata": {},
   "source": [
    "<p style='font-size: 24px; font-weight: bold'>3-1. 데이터프레임 만들기</p>"
   ]
  },
  {
   "cell_type": "code",
   "execution_count": null,
   "id": "5833a751",
   "metadata": {},
   "outputs": [],
   "source": [
    "df_sample = pd.DataFrame([\n",
    "    [90, 85, 80], \n",
    "    [95, 100, 70], \n",
    "    [70, 80, 100], \n",
    "], columns=['수학', '영어', '국어'])\n",
    "display(df_sample)\n",
    "\n",
    "df_sample.index = ['영희', '철수', '철희'] \n",
    "display(df_sample)"
   ]
  },
  {
   "cell_type": "markdown",
   "id": "2a8551c9",
   "metadata": {},
   "source": [
    "<p style='font-size: 24px; font-weight: bold'>3-2. 데이터프레임에 대한 인덱싱</p>\n",
    "<p style='font-size: 18px;'>데이터 프레임에 대한 인덱싱 방식으론 \"loc (location)\" 메소드와 \"iloc (integer location)\" 메소드를 활용하는 방법이 있음</p>"
   ]
  },
  {
   "cell_type": "code",
   "execution_count": null,
   "id": "1c8d01c0",
   "metadata": {},
   "outputs": [],
   "source": [
    "# loc를 활용한 방식의 인덱싱 \n",
    "print('loc indexing')\n",
    "print('영희의 수학점수: {}'.format(df_sample.loc['영희', '수학']))\n",
    "print('영희의 3개 과목 점수: {}'.format(df_sample.loc['영희'].values))\n",
    "print() \n",
    "\n",
    "# iloc를 활용한 방식의 인덱싱 \n",
    "print('iloc indexing')\n",
    "print('영희의 수학점수: {}'.format(df_sample.iloc[0, 0]))\n",
    "print('영희의 수학점수: {}'.format(df_sample.iloc[0, :].values))"
   ]
  },
  {
   "cell_type": "markdown",
   "id": "093be22f",
   "metadata": {},
   "source": [
    "<br>\n",
    "<p style='font-size: 32px; font-weight: bold'>4. 가격예측을 위한 회귀모델 만들기</p>\n",
    "<br>\n",
    "<br>\n",
    "\n",
    "<ul style='font-size: 24px; font-weight: bold; line-height: 35px'>실습의 목표    \n",
    "    <li style='font-size: 16px; font-weight: normal'> 실제 금융데이터를 통해 과거의 가격데이터를 통해 미래의 가격을 예측하는 인공지능 모델을 개발함</li>\n",
    "    <li style='font-size: 16px; font-weight: normal'> 인공지능 모델 개발에 대한 전반적인 프로세스를 이해함</li>\n",
    "    <li style='font-size: 16px; font-weight: normal'> 코드 및 관련 데이터는 아래의 링크에서 다운받기</li>\n",
    "    <li style='font-size: 16px'>데이터 및 실습 코드 링크 (만들어야함): </li>\n",
    "</ul>\n",
    "<br>"
   ]
  },
  {
   "cell_type": "markdown",
   "id": "525d1939",
   "metadata": {},
   "source": [
    "<p style='font-size: 24px; font-weight: bold'>4-1. 데이터 로딩 및 데이터 파악</p>\n",
    "<p style='font-size: 18px;'>CSV 형식의 파일을 DataFrame으로 불러오고, 이를 시각화해 봄</p>"
   ]
  },
  {
   "cell_type": "code",
   "execution_count": null,
   "id": "a1ced0b3",
   "metadata": {},
   "outputs": [],
   "source": [
    "kospi = pd.read_csv('./practice_data/kospi.csv', index_col='Date')\n",
    "display(kospi)\n",
    "\n",
    "plt.figure(figsize=(10, 7))\n",
    "plt.plot(kospi['Close'].values)\n",
    "plt.xlabel('Trading Days', fontsize=16)\n",
    "plt.ylabel('Kospi Index', fontsize=16)\n",
    "plt.grid() "
   ]
  },
  {
   "cell_type": "markdown",
   "id": "84a950c6",
   "metadata": {},
   "source": [
    "<p style='font-size: 24px; font-weight: bold'>4-2. 학습과 검증을 위한 데이터 분리</p>\n",
    "<p style='font-size: 18px;'>모델의 학습을 위한 학습용 데이터(80%)와 모델의 검증을 위한 검증용 데이터(20%)를 분리함</p>"
   ]
  },
  {
   "cell_type": "code",
   "execution_count": null,
   "id": "124fa2a7",
   "metadata": {},
   "outputs": [],
   "source": [
    "trading_days = len(kospi)\n",
    "print('trading days is {}'.format(trading_days))\n",
    "\n",
    "train_ratio = 0.8 \n",
    "train_days = round(trading_days * train_ratio)\n",
    "print('trading days for train: {}'.format(train_days))\n",
    "\n",
    "kospi_train = kospi.iloc[:train_days, :]\n",
    "kospi_test = kospi.iloc[train_days:, :]\n",
    "display(kospi_train)\n",
    "display(kospi_test)"
   ]
  },
  {
   "cell_type": "markdown",
   "id": "48988cad",
   "metadata": {},
   "source": [
    "<p style='font-size: 24px; font-weight: bold'>4-3. 지도학습 데이터 구성</p>\n",
    "<p style='font-size: 18px;'>학습용 데이터와 검증용 데이터에 대해 지도학습 데이터를 구성함</p>"
   ]
  },
  {
   "cell_type": "code",
   "execution_count": null,
   "id": "a42c9e46",
   "metadata": {},
   "outputs": [],
   "source": [
    "# 하이퍼 파라미터 정의 \n",
    "feature_size = 5\n",
    "\n",
    "close_train = kospi_train.loc[:, 'Close'].values  \n",
    "close_test = kospi_test.loc[:, 'Close'].values \n",
    "print('size of close_train: {}, size of close_test: {}'.format(close_train.shape, close_test.shape))\n",
    "\n",
    "# 훈련용 데이터에 대한 지도학습 데이터 구성 \n",
    "X_train = [] \n",
    "y_train = [] \n",
    "for i in range(len(close_train) - feature_size):\n",
    "    x_sample = close_train[i: i+feature_size]\n",
    "    y_sample = close_train[i+feature_size]\n",
    "    X_train.append(x_sample)\n",
    "    y_train.append(y_sample)\n",
    "\n",
    "X_train = np.array(X_train)    \n",
    "y_train = np.array(y_train)\n",
    "print('Shape of X_train: {}, Shape of y_train: {}'.format(X_train.shape, y_train.shape))\n",
    "\n",
    "\n",
    "# 검증용 데이터에 대한 지도학습 데이터 구성 \n",
    "X_test = [] \n",
    "y_test = [] \n",
    "for i in range(len(close_test) - feature_size):\n",
    "    x_sample = close_test[i: i+feature_size]\n",
    "    y_sample = close_test[i+feature_size]\n",
    "    X_test.append(x_sample)\n",
    "    y_test.append(y_sample)\n",
    "\n",
    "X_test = np.array(X_test)    \n",
    "y_test = np.array(y_test)\n",
    "print('Shape of X_test: {}, Shape of y_test: {}'.format(X_test.shape, y_test.shape))"
   ]
  },
  {
   "cell_type": "markdown",
   "id": "d1e87134",
   "metadata": {},
   "source": [
    "<p style='font-size: 24px; font-weight: bold'>4-4. AI 모델 구현 및 학습</p>\n",
    "<p style='font-size: 18px;'>AI 모델을 구성하고 학습용 데이터를 통해 학습을 수행함</p>"
   ]
  },
  {
   "cell_type": "code",
   "execution_count": null,
   "id": "43ff50ed",
   "metadata": {},
   "outputs": [],
   "source": [
    "model = keras.models.Sequential() \n",
    "model.add(keras.Input(feature_size))\n",
    "model.add(keras.layers.Dense(32, activation='relu'))\n",
    "model.add(keras.layers.Dense(32, activation='relu'))\n",
    "model.add(keras.layers.Dense(1, activation=None))\n",
    "\n",
    "model.compile(\n",
    "    loss='mean_squared_error', \n",
    "    optimizer='adam', \n",
    ")\n",
    "\n",
    "print(model.summary())"
   ]
  },
  {
   "cell_type": "code",
   "execution_count": null,
   "id": "8acfdc21",
   "metadata": {},
   "outputs": [],
   "source": [
    "# 모델 학습 \n",
    "model.fit(\n",
    "    x=X_train, \n",
    "    y=y_train, \n",
    "    batch_size=32, \n",
    "    epochs=200\n",
    ")"
   ]
  },
  {
   "cell_type": "markdown",
   "id": "84b463ee",
   "metadata": {},
   "source": [
    "<p style='font-size: 24px; font-weight: bold'>4-5. AI 모델에 대한 검증</p>\n",
    "<p style='font-size: 18px;'>학습된 AI 모델에 검증용 데이터를 적용하여 모델의 일반화 성능을 알아봄</p>"
   ]
  },
  {
   "cell_type": "markdown",
   "id": "dc93f41e",
   "metadata": {},
   "source": [
    "<p style='font-size: 18px; font-weight: bold'>1. 학습데이터에 대한 모델의 성능 확인</p>"
   ]
  },
  {
   "cell_type": "code",
   "execution_count": null,
   "id": "94cca210",
   "metadata": {},
   "outputs": [],
   "source": [
    "prediction_train = model.predict(X_train).reshape(-1)\n",
    "mse_train = np.mean(np.square(prediction_train - y_train)) \n",
    "print('MSE for training data: {:.1f}'.format(mse_train))\n",
    "\n",
    "plt.figure(figsize=(10, 7))\n",
    "plt.plot(y_train, label='actual')\n",
    "plt.plot(prediction_train, '--', label='prediction')\n",
    "plt.grid() \n",
    "plt.legend(fontsize=16)\n",
    "plt.xlabel('Trading days', fontsize=16)\n",
    "plt.ylabel('Kospi Index', fontsize=16)\n",
    "plt.title('Comparison for training data', fontsize=16)"
   ]
  },
  {
   "cell_type": "markdown",
   "id": "2000efbd",
   "metadata": {},
   "source": [
    "<p style='font-size: 18px; font-weight: bold'>2. 검증데이터에 대한 모델의 성능 확인</p>"
   ]
  },
  {
   "cell_type": "code",
   "execution_count": null,
   "id": "b3cd0c3d",
   "metadata": {},
   "outputs": [],
   "source": [
    "prediction_test = model.predict(X_test).reshape(-1)\n",
    "mse_test = np.mean(np.square(prediction_test - y_test)) \n",
    "print('MSE for test data: {:.1f}'.format(mse_test))\n",
    "\n",
    "plt.figure(figsize=(10, 7))\n",
    "plt.plot(y_test, label='actual')\n",
    "plt.plot(prediction_test, '--', label='prediction')\n",
    "plt.grid() \n",
    "plt.legend(fontsize=16)\n",
    "plt.xlabel('Trading days', fontsize=16)\n",
    "plt.ylabel('Kospi Index', fontsize=16)\n",
    "plt.title('Comparison for test data', fontsize=16)"
   ]
  }
 ],
 "metadata": {
  "kernelspec": {
   "display_name": "Python 3 (ipykernel)",
   "language": "python",
   "name": "python3"
  },
  "language_info": {
   "codemirror_mode": {
    "name": "ipython",
    "version": 3
   },
   "file_extension": ".py",
   "mimetype": "text/x-python",
   "name": "python",
   "nbconvert_exporter": "python",
   "pygments_lexer": "ipython3",
   "version": "3.7.11"
  }
 },
 "nbformat": 4,
 "nbformat_minor": 5
}
